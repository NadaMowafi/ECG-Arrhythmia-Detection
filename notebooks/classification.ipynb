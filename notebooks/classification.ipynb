{
 "cells": [
  {
   "cell_type": "markdown",
   "id": "71726df6",
   "metadata": {},
   "source": [
    "## 4. Arrhythmia Detection and Classification"
   ]
  },
  {
   "cell_type": "markdown",
   "id": "87da4259",
   "metadata": {},
   "source": [
    "### Imports"
   ]
  },
  {
   "cell_type": "code",
   "execution_count": 57,
   "id": "393f0f8e",
   "metadata": {},
   "outputs": [],
   "source": [
    "import wfdb\n",
    "import os\n",
    "import numpy as np\n",
    "import matplotlib.pyplot as plt\n",
    "import pandas as pd\n",
    "from scipy.signal import find_peaks\n",
    "from sklearn.model_selection import train_test_split, cross_val_score\n",
    "from sklearn.ensemble import RandomForestClassifier\n",
    "from sklearn.metrics import classification_report, confusion_matrix, accuracy_score, precision_score, recall_score, f1_score, roc_curve, auc\n",
    "from imblearn.over_sampling import SMOTE\n",
    "from tqdm import tqdm"
   ]
  },
  {
   "cell_type": "markdown",
   "id": "9d884e41",
   "metadata": {},
   "source": [
    "### Read the data"
   ]
  },
  {
   "cell_type": "code",
   "execution_count": 58,
   "id": "7ce257c7",
   "metadata": {},
   "outputs": [],
   "source": [
    "# --- 0. Load ECG records ---\n",
    "data_path = '../data'  \n",
    "record_ids = []\n",
    "for root, dirs, files in os.walk(data_path):\n",
    "    for f in files:\n",
    "        if f.endswith('.dat'):\n",
    "            record_ids.append(os.path.join(root, f).replace('.dat', ''))"
   ]
  },
  {
   "cell_type": "markdown",
   "id": "a36cd6a7",
   "metadata": {},
   "source": [
    "###  Extract Features and Labels from ECG Annotations\n",
    "\n",
    "features such as:\n",
    "- RR intervals before and after each beat\n",
    "- Local heart rate\n",
    "\n",
    "It also assigns:\n",
    "- **Label 0** for normal beats (`'N'`)\n",
    "- **Label 1** for abnormal beats (all others in the valid set)\n"
   ]
  },
  {
   "cell_type": "code",
   "execution_count": 59,
   "id": "65ef8778",
   "metadata": {},
   "outputs": [
    {
     "name": "stdout",
     "output_type": "stream",
     "text": [
      "Processing ECG records...\n"
     ]
    },
    {
     "name": "stderr",
     "output_type": "stream",
     "text": [
      "  0%|          | 0/71 [00:00<?, ?it/s]"
     ]
    },
    {
     "name": "stderr",
     "output_type": "stream",
     "text": [
      "100%|██████████| 71/71 [00:03<00:00, 18.10it/s]"
     ]
    },
    {
     "name": "stdout",
     "output_type": "stream",
     "text": [
      "\n",
      "Total beats: 117218\n",
      "Normal beats: 60333, Abnormal beats: 56885\n"
     ]
    },
    {
     "name": "stderr",
     "output_type": "stream",
     "text": [
      "\n"
     ]
    }
   ],
   "source": [
    "features = []\n",
    "labels = []\n",
    "\n",
    "print(\"Processing ECG records...\")\n",
    "for record_path in tqdm(record_ids):\n",
    "    try:\n",
    "        record = wfdb.rdrecord(record_path)\n",
    "        annotation = wfdb.rdann(record_path, 'atr')\n",
    "\n",
    "        signal = record.p_signal[:, 0]\n",
    "        fs = record.fs\n",
    "        ann_samples = annotation.sample\n",
    "        ann_symbols = annotation.symbol\n",
    "\n",
    "        valid_beats = ['N', 'L', 'R', 'A', 'V', 'E', 'F', 'j', 'e']\n",
    "        for i in range(1, len(ann_samples) - 1):\n",
    "            sym = ann_symbols[i]\n",
    "            if sym not in valid_beats:\n",
    "                continue\n",
    "\n",
    "            rr_prev = (ann_samples[i] - ann_samples[i - 1]) / fs\n",
    "            rr_next = (ann_samples[i + 1] - ann_samples[i]) / fs\n",
    "            local_hr = 60 / rr_prev\n",
    "            mean_rr = (rr_prev + rr_next) / 2\n",
    "            hrv = abs(rr_next - rr_prev)  # Heart Rate Variability\n",
    "\n",
    "            # Label: 0 = Normal, 1 = Abnormal\n",
    "            label = 0 if sym == 'N' and 60 <= local_hr <= 100 else 1\n",
    "\n",
    "            features.append([rr_prev, rr_next, local_hr, mean_rr, hrv])\n",
    "            labels.append(label)\n",
    "\n",
    "    except Exception as e:\n",
    "        print(f\"Error processing {record_path}: {e}\")\n",
    "\n",
    "print(f\"\\nTotal beats: {len(features)}\")\n",
    "print(f\"Normal beats: {labels.count(0)}, Abnormal beats: {labels.count(1)}\")\n",
    "\n"
   ]
  },
  {
   "cell_type": "code",
   "execution_count": 60,
   "id": "1eb67670",
   "metadata": {},
   "outputs": [
    {
     "name": "stdout",
     "output_type": "stream",
     "text": [
      "\n",
      "Applying SMOTE to balance classes...\n"
     ]
    }
   ],
   "source": [
    "# --- 3. Address Class Imbalance (SMOTE) ---\n",
    "print(\"\\nApplying SMOTE to balance classes...\")\n",
    "smote = SMOTE(random_state=42)\n",
    "X_resampled, y_resampled = smote.fit_resample(X, y)"
   ]
  },
  {
   "cell_type": "markdown",
   "id": "e91fddba",
   "metadata": {},
   "source": [
    "### Train-test split"
   ]
  },
  {
   "cell_type": "code",
   "execution_count": 61,
   "id": "484972fa",
   "metadata": {},
   "outputs": [],
   "source": [
    "X = np.array(features)\n",
    "y = np.array(labels)\n",
    "X_train, X_test, y_train, y_test = train_test_split(X_resampled, y_resampled, test_size=0.3, random_state=42)\n"
   ]
  },
  {
   "cell_type": "markdown",
   "id": "f0f58d9f",
   "metadata": {},
   "source": [
    "### Train Classifier"
   ]
  },
  {
   "cell_type": "code",
   "execution_count": 62,
   "id": "4ba1f87e",
   "metadata": {},
   "outputs": [],
   "source": [
    "clf = RandomForestClassifier(n_estimators=100, random_state=42, class_weight='balanced')\n",
    "clf.fit(X_train, y_train)\n",
    "y_pred = clf.predict(X_test)\n",
    "y_prob = clf.predict_proba(X_test)[:, 1]"
   ]
  },
  {
   "cell_type": "markdown",
   "id": "2ccd143b",
   "metadata": {},
   "source": [
    "### Evaluation"
   ]
  },
  {
   "cell_type": "code",
   "execution_count": 63,
   "id": "f6b4ec07",
   "metadata": {},
   "outputs": [
    {
     "name": "stdout",
     "output_type": "stream",
     "text": [
      "\n",
      "=== Classification Report ===\n",
      "              precision    recall  f1-score   support\n",
      "\n",
      "           0       0.78      0.92      0.85     18046\n",
      "           1       0.90      0.75      0.82     18154\n",
      "\n",
      "    accuracy                           0.83     36200\n",
      "   macro avg       0.84      0.83      0.83     36200\n",
      "weighted avg       0.84      0.83      0.83     36200\n",
      "\n",
      "Confusion Matrix:\n",
      "[[16569  1477]\n",
      " [ 4542 13612]]\n",
      "Accuracy: 0.83, Precision: 0.90, Recall: 0.75, F1: 0.82\n",
      "False Positives: 1477, False Negatives: 4542\n",
      "Comment: False positives = Normal ECGs misclassified as arrhythmia.\n",
      "         False negatives = Arrhythmic ECGs missed by the classifier.\n"
     ]
    }
   ],
   "source": [
    "\n",
    "print(\"\\n=== Classification Report ===\")\n",
    "print(classification_report(y_test, y_pred))\n",
    "conf_mat = confusion_matrix(y_test, y_pred)\n",
    "print(\"Confusion Matrix:\")\n",
    "print(conf_mat)\n",
    "\n",
    "acc = accuracy_score(y_test, y_pred)\n",
    "prec = precision_score(y_test, y_pred)\n",
    "rec = recall_score(y_test, y_pred)\n",
    "f1 = f1_score(y_test, y_pred)\n",
    "\n",
    "fp = np.sum((y_test == 0) & (y_pred == 1))\n",
    "fn = np.sum((y_test == 1) & (y_pred == 0))\n",
    "\n",
    "print(f\"Accuracy: {acc:.2f}, Precision: {prec:.2f}, Recall: {rec:.2f}, F1: {f1:.2f}\")\n",
    "print(f\"False Positives: {fp}, False Negatives: {fn}\")\n",
    "print(\"Comment: False positives = Normal ECGs misclassified as arrhythmia.\")\n",
    "print(\"         False negatives = Arrhythmic ECGs missed by the classifier.\")"
   ]
  },
  {
   "cell_type": "markdown",
   "id": "07ea3d4a",
   "metadata": {},
   "source": [
    "### ROC Curve"
   ]
  },
  {
   "cell_type": "code",
   "execution_count": 64,
   "id": "acc1a487",
   "metadata": {},
   "outputs": [
    {
     "data": {
      "image/png": "[encoded data removed]",
      "text/plain": [
       "<Figure size 800x600 with 1 Axes>"
      ]
     },
     "metadata": {},
     "output_type": "display_data"
    }
   ],
   "source": [
    "fpr, tpr, _ = roc_curve(y_test, y_prob)\n",
    "roc_auc = auc(fpr, tpr)\n",
    "\n",
    "plt.figure(figsize=(8,6))\n",
    "plt.plot(fpr, tpr, label=f\"Random Forest (AUC = {roc_auc:.2f})\")\n",
    "plt.plot([0, 1], [0, 1], 'k--')\n",
    "plt.xlabel(\"False Positive Rate\")\n",
    "plt.ylabel(\"True Positive Rate\")\n",
    "plt.title(\"ROC Curve\")\n",
    "plt.legend()\n",
    "plt.grid(True)\n",
    "plt.show()"
   ]
  },
  {
   "cell_type": "code",
   "execution_count": null,
   "id": "71dbdb66",
   "metadata": {},
   "outputs": [],
   "source": []
  }
 ],
 "metadata": {
  "kernelspec": {
   "display_name": "Python 3",
   "language": "python",
   "name": "python3"
  },
  "language_info": {
   "codemirror_mode": {
    "name": "ipython",
    "version": 3
   },
   "file_extension": ".py",
   "mimetype": "text/x-python",
   "name": "python",
   "nbconvert_exporter": "python",
   "pygments_lexer": "ipython3",
   "version": "3.13.3"
  }
 },
 "nbformat": 4,
 "nbformat_minor": 5
}
